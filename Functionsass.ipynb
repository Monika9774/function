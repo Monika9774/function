{
  "nbformat": 4,
  "nbformat_minor": 0,
  "metadata": {
    "colab": {
      "provenance": []
    },
    "kernelspec": {
      "name": "python3",
      "display_name": "Python 3"
    },
    "language_info": {
      "name": "python"
    }
  },
  "cells": [
    {
      "cell_type": "markdown",
      "source": [
        "**1.What is the difference between a function and a method in python?**\n",
        "\n",
        " Ans: A function is a block of code that works on its own .it performs\n",
        "specific task and can be called again and again as per requirement the code.\n",
        "\n",
        "Example:\n",
        "\n",
        "    def func():\n",
        "     print(\"hello. world!\")\n",
        "\n",
        " A method is a function inside a class that work with an object.\n",
        "\n",
        "Example:\n",
        "   \n",
        "   \n",
        "    class x:\n",
        "    \n",
        "    def x_y(a,b):\n",
        "      return a+b\n",
        "    \n",
        "    calc=x()\n",
        "     result=calc.x_y(5,10)\n",
        "     \n",
        "     print(\"sum:\",result)\n",
        "\n",
        "\n",
        "**2.Explain the concept of function arguments and parameters in python?**\n",
        "\n",
        "Ans: Arguments gives the actual values passed to a function when calling it .\n",
        "\n",
        "Paramenters a placeholder inside function used when definig a function .\n",
        "\n",
        "Example:\n",
        "    \n",
        "    def greet():\n",
        "    print(\" welcome to the office \")\n",
        "\n",
        "**3.What are the different ways to define and call a function in python ?**\n",
        "\n",
        "Ans:The different ways to define and call a function in python are:\n",
        "      \n",
        "      \n",
        "*   Regular function (using def).\n",
        "*   Function with default arguments.\n",
        "\n",
        "*   Function with *args(multiple arguments as tuple).\n",
        "*   Function with **kwargs(multiple keyword argument as dictionary )\n",
        "\n",
        "\n",
        "\n",
        "\n",
        "\n",
        "**4.What is the purpose of the 'return' statement in python function ?**\n",
        "\n",
        "Ans: The purpose of the 'return' statement in python function is used to send a value back to the caller .it allows the function to produce an output that can be used later .\n",
        "\n",
        "Example:\n",
        "\n",
        "    def func():\n",
        "    return\"this is my first function \" , 1,2,3,4.4,True,3+7j\n",
        "    func()\n",
        "\n",
        "**5.What are iterators in python and how do they differ from iterable?**\n",
        "\n",
        "Ans:An itera isble any object that can be looped over . it contains multiple element and provides an iterator when needed.\n",
        "\n",
        "Example:\n",
        "    \n",
        "    m=[1,2,3]\n",
        "    i=iter(m)\n",
        "    print(next(i))\n",
        "    print(next(i))\n",
        "    print(next(i))\n",
        "   \n",
        "An iterator is an object that remembers its state and returns element one at a time using next(). once exhausted ,it cannot be reused without re-creating it.\n",
        "\n",
        "Example:\n",
        "   \n",
        "    m=[1,2,3]\n",
        "    for i in m:\n",
        "    print(i)\n",
        "\n",
        "  \n",
        "**6.Explain the concept of generator in python and how they are define?**\n",
        "\n",
        "Ans:A generator is a special types of function in python that returns values one at a time using yield keywords , instead of returing all values at once like normal function.\n",
        "\n",
        "A generator is defined using function but uses yield instead of return.\n",
        "\n",
        "Example:\n",
        "\n",
        "    def square_number_gen(n):\n",
        "    for i in range(n):\n",
        "    yield i**2\n",
        "\n",
        "    square_number_gen(5)\n",
        "\n",
        "**7.What are the advantages of using generators over regular functions?**\n",
        "\n",
        "Ans:Advantages are:\n",
        "  \n",
        "  * Saves memory .\n",
        "  * Faster execution.\n",
        "  * Handles infinite sequences.\n",
        "  * Supports next().\n",
        "  * Cleaner code.\n",
        "  * Efficieint file handling.\n",
        "\n",
        "\n",
        "\n",
        " Regular function (store all values)\n",
        "\n",
        " Example:\n",
        "    \n",
        "    def square_number(n):\n",
        "    result=[]\n",
        "    for i in range(n):\n",
        "    result.append(i**2)\n",
        "    return result\n",
        "    square_number(5)\n",
        " Generator(yield one value at a time)\n",
        "\n",
        " Example:\n",
        "\n",
        "    def square_number_gen(n):\n",
        "    for i in range(n):\n",
        "    yield i**2\n",
        "\n",
        "**8.What is a lambda function in python and when is it typically used ?**\n",
        "\n",
        "Ans:A lambda functions is a small anonymous functions in python that has no name and is defined using the lambda keywords.\n",
        "\n",
        "Used for quick task like map(),filter(),sorted(),other.\n",
        "\n",
        "Example:\n",
        "\n",
        "    lam=lambda x:x*x\n",
        "    print(lam(5))\n",
        "  \n",
        "**9.Explain the purpose and usage of the 'map()' function in python?**\n",
        "\n",
        "Ans:The map() function is used to apply a function to each  item in an iterable (like a list or tuple) and return a new iterable with the modified values.\n",
        "\n",
        "Example:\n",
        "   \n",
        "    number=[1,2,3,4,5]\n",
        "\n",
        "    dou =list(map(lambda x:x*2,number))\n",
        "\n",
        "    print(dou)\n",
        "\n",
        "**10.What is the difference between 'map()','reduce()',and'filter()' function in python?**\n",
        "\n",
        "Ans: The difference between 'map()','reduce()',and'filter()' function in python is :\n",
        "\n",
        " * Map(): Applies a function to each element in an iterable .\n",
        " Transforms all element of an iterable.\n",
        "\n",
        " Example:\n",
        "   \n",
        "    \n",
        "    no=[1,2,3,4,5]\n",
        "    duo=list(map(lambda x:x*2,no))\n",
        "    print(duo)\n",
        "\n",
        "\n",
        "\n",
        "   * Filter(): Filter elements based on a condition.Removes element that don't satisfy a condition.\n",
        "\n",
        "  Example:\n",
        "\n",
        "\n",
        "    no=[1,2,3,4,5]\n",
        "    ev=list(filter(lambda x:x%2==0,no))\n",
        "    print(ev)\n",
        "\n",
        "   *reduce():Applies a function to reduce an iterable to a single value.Must be imported from functools.\n",
        "\n",
        "   Example:\n",
        "\n",
        "\n",
        "    from functools import reduce\n",
        "\n",
        "    no=[1,2,3,4,5]\n",
        "    pro=reduce(lambda x,y:x*y,no))\n",
        "    print(pro)\n",
        "\n",
        "\n",
        "\n",
        "\n"
      ],
      "metadata": {
        "id": "BODbMVWnRDu9"
      }
    },
    {
      "cell_type": "code",
      "source": [
        "# 1. Write a Python function that takes a list of numbers as input and returns the sum of all even numbers in the list.\n",
        "\n",
        "def sum_even(no):\n",
        "     return sum(filter(lambda x:x%2==0,no))\n",
        "no=[1,2,3,4,5,6,7,8,9,10]\n",
        "print(sum_even(no))"
      ],
      "metadata": {
        "id": "ZEgG-W8OfFHr",
        "colab": {
          "base_uri": "https://localhost:8080/"
        },
        "outputId": "2982aa8b-a49f-447f-f48d-d8fb51e839da"
      },
      "execution_count": null,
      "outputs": [
        {
          "output_type": "stream",
          "name": "stdout",
          "text": [
            "<class 'int'>\n"
          ]
        }
      ]
    },
    {
      "cell_type": "code",
      "source": [
        "# 2. Create a Python function that accepts a string and returns the reverse of that string\n",
        "\n",
        "def rev_str(s):\n",
        "\n",
        "   return s[::-1]\n",
        "\n",
        "print(rev_str(\"Monika\"))"
      ],
      "metadata": {
        "colab": {
          "base_uri": "https://localhost:8080/"
        },
        "id": "Cr7a3Wo7eSDx",
        "outputId": "a994ec4c-9b87-4093-f284-03655378b1dc"
      },
      "execution_count": null,
      "outputs": [
        {
          "output_type": "stream",
          "name": "stdout",
          "text": [
            "akinoM\n"
          ]
        }
      ]
    },
    {
      "cell_type": "code",
      "source": [
        "# 3. Implement a Python function that takes a list of integers and returns a new list containing the squares of each number.\n",
        "\n",
        "def squares_no(num):\n",
        "  return [x**2 for x in num]\n",
        "\n",
        "num=[1,2,3,4,5]\n",
        "print(squares_no(num))"
      ],
      "metadata": {
        "colab": {
          "base_uri": "https://localhost:8080/"
        },
        "id": "dNroSJk3gJ8o",
        "outputId": "79c9531d-dd5b-4155-9c31-33b554095c9c"
      },
      "execution_count": null,
      "outputs": [
        {
          "output_type": "stream",
          "name": "stdout",
          "text": [
            "[1, 4, 9, 16, 25]\n"
          ]
        }
      ]
    },
    {
      "cell_type": "code",
      "source": [
        "# 4. Write a Python function that checks if a given number is prime or not from 1 to 200.\n",
        "\n",
        "def prime_no(num):\n",
        "  if num<2:\n",
        "    return \"not prime number\"\n",
        "    for i in range(2,int(num**0.5)+1):\n",
        "      if num%i==0:\n",
        "        return \"not prime number\"\n",
        "    return \"prime number\"\n",
        "primes=[num for num in range(1,201)if prime_no(num)]\n",
        "print(primes)"
      ],
      "metadata": {
        "colab": {
          "base_uri": "https://localhost:8080/"
        },
        "id": "wzVHRO7ogJ5H",
        "outputId": "844f667f-58c3-4736-ee58-fe5c7dc2acac"
      },
      "execution_count": null,
      "outputs": [
        {
          "output_type": "stream",
          "name": "stdout",
          "text": [
            "[1]\n"
          ]
        }
      ]
    },
    {
      "cell_type": "code",
      "source": [
        "#6. Write a generator function in Python that yields the powers of 2 up to a given exponent\n",
        "\n",
        "def powers_of_two(exponent):\n",
        "    for i in range(exponent + 1):\n",
        "        yield 2 ** i\n",
        "\n",
        "for power in powers_of_two(5):\n",
        "    print(power)\n"
      ],
      "metadata": {
        "id": "o3UE6mrggJ2Y",
        "colab": {
          "base_uri": "https://localhost:8080/"
        },
        "outputId": "e553fb26-3c7d-4186-8215-2e541980b5f3"
      },
      "execution_count": null,
      "outputs": [
        {
          "output_type": "stream",
          "name": "stdout",
          "text": [
            "1\n",
            "2\n",
            "4\n",
            "8\n",
            "16\n",
            "32\n"
          ]
        }
      ]
    },
    {
      "cell_type": "code",
      "source": [
        "#7. Implement a generator function that reads a file line by line and yields each line as a string\n",
        "\n",
        "def read_file_line_by_line(file_path):\n",
        "    with open(file_path, 'r') as file:\n",
        "        for line in file:\n",
        "            yield line.strip()\n",
        "\n",
        "\n",
        "file_path = 'example.txt'\n",
        "for line in read_file_line_by_line(file_path):\n",
        "    print(line)\n",
        "\n"
      ],
      "metadata": {
        "id": "qC5hycNugJyz"
      },
      "execution_count": null,
      "outputs": []
    },
    {
      "cell_type": "code",
      "source": [
        "# 8. Use a lambda function in Python to sort a list of tuples based on the second element of each tuple\n",
        "\n",
        "data = [(1, 3), (4, 1), (2, 2), (5, 4)]\n",
        "\n",
        "\n",
        "sorted_data = sorted(data, key=lambda x: x[1])\n",
        "\n",
        "print(sorted_data)\n",
        "\n"
      ],
      "metadata": {
        "id": "1ake16NHgJvQ"
      },
      "execution_count": null,
      "outputs": []
    },
    {
      "cell_type": "code",
      "source": [
        "# 9. Write a Python program that uses `map()` to convert a list of temperatures from Celsius to Fahrenheit\n",
        "\n",
        "\n",
        "celsius_temps = [37, 35, 58, 25, 32]\n",
        "\n",
        "\n",
        "def celsius_to_fahrenheit(celsius):\n",
        "    return (celsius * 9/5) + 32\n",
        "\n",
        "\n",
        "fahrenheit_temps = list(map(celsius_to_fahrenheit, celsius_temps))\n",
        "\n",
        "print(\"Celsius Temps:\", celsius_temps)\n",
        "print(\"Fahrenheit Temps:\", fahrenheit_temps)"
      ],
      "metadata": {
        "colab": {
          "base_uri": "https://localhost:8080/"
        },
        "id": "QBWG4__4j0YS",
        "outputId": "9ad90269-a319-4b52-df15-34801e79a7e8"
      },
      "execution_count": null,
      "outputs": [
        {
          "output_type": "stream",
          "name": "stdout",
          "text": [
            "Celsius Temps: [37, 35, 58, 25, 32]\n",
            "Fahrenheit Temps: [98.6, 95.0, 136.4, 77.0, 89.6]\n"
          ]
        }
      ]
    },
    {
      "cell_type": "code",
      "source": [
        "#10. Create a Python program that uses `filter()` to remove all the vowels from a given string\n",
        "\n",
        "input_string = \"Hello, World!\"\n",
        "\n",
        "\n",
        "def is_not_vowel(char):\n",
        "    vowels = \"aeiouAEIOU\"\n",
        "    return char not in vowels\n",
        "\n",
        "filtered_string = ''.join(filter(is_not_vowel, input_string))\n",
        "\n",
        "print(\"Original String:\", input_string)\n",
        "print(\"String without Vowels:\", filtered_string)"
      ],
      "metadata": {
        "colab": {
          "base_uri": "https://localhost:8080/"
        },
        "id": "eEWyb--OlMzJ",
        "outputId": "0ba68564-f7db-426b-e425-0007ecbfa357"
      },
      "execution_count": null,
      "outputs": [
        {
          "output_type": "stream",
          "name": "stdout",
          "text": [
            "Original String: Hello, World!\n",
            "String without Vowels: Hll, Wrld!\n"
          ]
        }
      ]
    },
    {
      "cell_type": "code",
      "source": [
        "# 11. qqq\n",
        "\n",
        "orders = [\n",
        "    [34587, \"Learning Python, Mark Lutz\", 4, 40.95],\n",
        "    [98762, \"Programming Python, Mark Lutz\", 5, 56.80],\n",
        "    [77226, \"Head First Python, Paul Barry\", 3, 32.95],\n",
        "    [88112, \"Einführung in Python3, Bernd Klein\", 3, 24.99]\n",
        "]\n",
        "\n",
        "\n",
        "result = list(map(lambda order: (order[0], order[2] * order[3] if order[2] * order[3] >= 100 else order[2] * order[3] + 10), orders))\n",
        "print(result)"
      ],
      "metadata": {
        "id": "SUDfvm3HlMb1",
        "colab": {
          "base_uri": "https://localhost:8080/"
        },
        "outputId": "b3591da2-4db5-4e23-866e-f36feed4e335"
      },
      "execution_count": 1,
      "outputs": [
        {
          "output_type": "stream",
          "name": "stdout",
          "text": [
            "[(34587, 163.8), (98762, 284.0), (77226, 108.85000000000001), (88112, 84.97)]\n"
          ]
        }
      ]
    }
  ]
}